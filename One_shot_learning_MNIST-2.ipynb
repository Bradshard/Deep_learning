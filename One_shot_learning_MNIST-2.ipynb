{
  "nbformat": 4,
  "nbformat_minor": 0,
  "metadata": {
    "colab": {
      "provenance": [],
      "collapsed_sections": [
        "upQkGvGCMcea",
        "mWjB6WmDhUUY",
        "YLafwUoHHOgM",
        "VrP9OLo6WwkM",
        "oZ-QLEd15OQY",
        "k-nKCUryz2jZ",
        "6A7obvtOz1FK",
        "6h4XBrmvGxh3",
        "_1HdQ6n0HM87",
        "vwJQfNqGzkXK",
        "PnQlVFJ6hNak",
        "cxaz3y9ri_WH",
        "jml7Vs4tjAtv",
        "AkJPlTzVjBlf",
        "9sluOEqfjCL-",
        "XWTeLhnZjC3N",
        "VqVGaqpBtQtd"
      ],
      "machine_shape": "hm"
    },
    "kernelspec": {
      "name": "python3",
      "display_name": "Python 3"
    },
    "language_info": {
      "name": "python"
    }
  },
  "cells": [
    {
      "cell_type": "markdown",
      "source": [
        "# Definition"
      ],
      "metadata": {
        "id": "upQkGvGCMcea"
      }
    },
    {
      "cell_type": "markdown",
      "source": [
        "* Problem definition, getting a somewhat unbiased estimator for binary classifier for the MNIST dataset via only one sample at training.\n",
        "\n",
        "* First we need to make the appropriate dataset from the mnist dataset provided in the google colab as mnist_train_small.csv .\n",
        "\n",
        "* Our goal is to at training procedure have randomized goal class that we change at each train epoch randomly may be the same, e.g 2 and label it as true(1) based on the model weights and mnist labels corresponding to it, and rest as False (0). So at each training query we will have a set that has all of these elements and we will find the similar one which is true(1) and make this discrimination by a binary-cross entropy. Here, we do require to make train and test on separate classes, which means that for teaching 0 we need true label as 0, rest false; but when we have the other x elements we have them as true labels.\n",
        "\n",
        "Cue: Rather than predicting the class of image , we will try to predict the degree of similarity between pairs of image. This is done by representing images in N-Dimensional embedding vector which the model will generate. When these embedding vectors are represented in 2-D space , the distance between embedding of similar images will be less . Hence, the model predicts whether the images are similar or not. [https://medium.com/swlh/one-shot-learning-using-keras-8c1cd62ac382]\n",
        "\n",
        "Cue 2: General classification models use deep convolution layers that pre-process every image to extract all the features which are then passed on through activation functions and classified using SoftMax function which generates probabilities for any given image in comparison to all the other trained classes. The class with maximum predicted probability is the one into which the image is classified into. In contrary, the proposed method takes in a single image to which any given test image is compared with to produce a similarity score in the range of 0–1 by using a sigmoid function. [https://medium.com/swlh/less-than-one-shot-learning-for-dummies-49dc2f01a679]\n",
        "\n",
        "* Testing procedure is similar to train but without training and with the labels that we didn't use in the model."
      ],
      "metadata": {
        "id": "l0VRRBcHa7Xj"
      }
    },
    {
      "cell_type": "markdown",
      "source": [
        "# Preliminaries"
      ],
      "metadata": {
        "id": "mWjB6WmDhUUY"
      }
    },
    {
      "cell_type": "markdown",
      "source": [
        "Packages to be loaded for to do the work."
      ],
      "metadata": {
        "id": "7rxR-0FVhW8G"
      }
    },
    {
      "cell_type": "code",
      "source": [
        "import pandas as pd\n",
        "import numpy as np\n",
        "import matplotlib.pyplot as plt\n",
        "import torch\n",
        "import torch.nn as nn\n",
        "import torch.optim as optim"
      ],
      "metadata": {
        "id": "AAiCBFPWhVzu"
      },
      "execution_count": null,
      "outputs": []
    },
    {
      "cell_type": "markdown",
      "source": [
        "# Model"
      ],
      "metadata": {
        "id": "YLafwUoHHOgM"
      }
    },
    {
      "cell_type": "code",
      "source": [
        "\"\"\"\n",
        "\n",
        "Simple One-shot training model that is stated in the task as the meta-model 'g'\n",
        "It has two linear layers and a ReLU activation function.\n",
        "\"\"\"\n",
        "class OneShotModel(nn.Module):\n",
        "  def __init__(self, input_size, hidden_size, output_size):\n",
        "    super(OneShotModel, self).__init__()\n",
        "    self.fc1 = nn.Linear(input_size, hidden_size)\n",
        "    self.fc2 = nn.Linear(hidden_size, output_size)\n",
        "\n",
        "  def forward(self, x):\n",
        "    out = self.fc1(x)\n",
        "    out = torch.relu(out)\n",
        "    out = self.fc2(out)\n",
        "    return out"
      ],
      "metadata": {
        "id": "6XlK0V8BHPsq"
      },
      "execution_count": null,
      "outputs": []
    },
    {
      "cell_type": "code",
      "source": [
        "\"\"\"\n",
        "deeper model with dropout.\n",
        "\"\"\"\n",
        "class OneShotModelv2(nn.Module):\n",
        "    def __init__(self, input_size, hidden_size1, hidden_size2, output_size, dropout_rate=0.5):\n",
        "        super(OneShotModelv2, self).__init__()\n",
        "        self.fc1 = nn.Linear(input_size, hidden_size1)\n",
        "        self.dropout1 = nn.Dropout(dropout_rate)\n",
        "\n",
        "        self.fc2 = nn.Linear(hidden_size1, hidden_size2)\n",
        "        self.dropout2 = nn.Dropout(dropout_rate)\n",
        "\n",
        "        self.fc3 = nn.Linear(hidden_size2, output_size)\n",
        "\n",
        "    def forward(self, x):\n",
        "        out = self.fc1(x)\n",
        "        out = torch.relu(out)\n",
        "        out = self.dropout1(out)\n",
        "\n",
        "        out = self.fc2(out)\n",
        "        out = torch.relu(out)\n",
        "        out = self.dropout2(out)\n",
        "\n",
        "        out = self.fc3(out)\n",
        "        return out\n"
      ],
      "metadata": {
        "id": "ydQK02x0LOR1"
      },
      "execution_count": null,
      "outputs": []
    },
    {
      "cell_type": "markdown",
      "source": [
        "# Dataset Preparation for One Sample"
      ],
      "metadata": {
        "id": "VrP9OLo6WwkM"
      }
    },
    {
      "cell_type": "code",
      "source": [
        "# Here we will load the training data provided by colab\n",
        "train_df = pd.read_csv(\"/content/sample_data/mnist_train_small.csv\", header=None)\n",
        "train_labels = train_df.iloc[:, 0].values\n",
        "train_pixels = train_df.iloc[:, 1:].values\n",
        "\n",
        "# Here we will load the training data provided by colab\n",
        "test_df = pd.read_csv(\"/content/sample_data/mnist_test.csv\", header=None)\n",
        "test_labels = test_df.iloc[:, 0].values\n",
        "test_pixels = test_df.iloc[:, 1:].values # 0,255 pixels with labels 0...9\n",
        "\"\"\"\n",
        "As specified on the task we check the labels for 0,1,2,3,4,5 and get them as train\n",
        "and get test as 6,7,8,9 as stated.\n",
        "\n",
        "Then use the indices to get the data.\n",
        "\"\"\"\n",
        "\n",
        "train_indices = np.isin(train_labels, [0, 1, 2, 3, 4, 5])\n",
        "test_indices = np.isin(test_labels, [6, 7, 8, 9])\n",
        "\n",
        "train_data = train_pixels[train_indices]\n",
        "train_data = train_data/255.0\n",
        "train_labels = train_labels[train_indices]\n",
        "test_data = test_pixels[test_indices]\n",
        "test_data = test_data/255.0\n",
        "test_labels = test_labels[test_indices]"
      ],
      "metadata": {
        "id": "VzGiH49nci6B"
      },
      "execution_count": null,
      "outputs": []
    },
    {
      "cell_type": "code",
      "source": [
        "\"\"\"\n",
        "Here we define a one_sample_per_class function such that\n",
        "This function will select the first occurrence of each label i.e 0,1,2,3,4 ...\n",
        "Then append them as desired.\n",
        "\n",
        "any occurence would have been selected since a digit is always\n",
        "the same digit regardless we pick first one or the second one as the 1 digit.\n",
        "\n",
        "\"\"\"\n",
        "\n",
        "def One_sampler(data, labels):\n",
        "\n",
        "    unique_labels = np.unique(labels)\n",
        "    sample_data = []\n",
        "    sample_labels = []\n",
        "    for label in unique_labels:\n",
        "        point = np.where(labels == label)[0][0]\n",
        "        sample_data.append(data[point])\n",
        "        sample_labels.append(labels[point])\n",
        "    return np.array(sample_data), np.array(sample_labels)\n",
        "\n",
        "#One sample for train labels each and for test labels each.\n",
        "\n",
        "one_shot_train_data, one_shot_train_label = One_sampler(train_data, train_labels)\n",
        "one_shot_test_data, one_shot_test_label = One_sampler(test_data, test_labels)"
      ],
      "metadata": {
        "id": "XZxq73b6dVch"
      },
      "execution_count": null,
      "outputs": []
    },
    {
      "cell_type": "code",
      "source": [
        "one_shot_train_data = torch.tensor(one_shot_train_data, dtype=torch.float32)\n",
        "one_shot_train_label = torch.tensor(one_shot_train_label, dtype=torch.long)\n",
        "one_shot_test_data = torch.tensor(one_shot_test_data, dtype=torch.float32)\n",
        "one_shot_test_label = torch.tensor(one_shot_test_label, dtype=torch.long)"
      ],
      "metadata": {
        "id": "8OGTc-euoJcf"
      },
      "execution_count": null,
      "outputs": []
    },
    {
      "cell_type": "code",
      "source": [
        "def sigmoid_similarity_classifier(x, weights):\n",
        "    return torch.sigmoid(torch.matmul(x, weights))"
      ],
      "metadata": {
        "id": "GnBhC9NWwqJt"
      },
      "execution_count": null,
      "outputs": []
    },
    {
      "cell_type": "markdown",
      "source": [
        "# Training-Testing Step"
      ],
      "metadata": {
        "id": "oZ-QLEd15OQY"
      }
    },
    {
      "cell_type": "code",
      "source": [
        "seed = 123\n",
        "torch.manual_seed(seed)\n",
        "input_size = one_shot_train_data.shape[1] # already flattened data so no need for flattening in the model.\n",
        "output_size = input_size\n",
        "hidden_size = 256\n",
        "oneshotmodel = OneShotModel(input_size, hidden_size, output_size)\n",
        "oneshotmodelv2 = OneShotModelv2(input_size, 512, 256, output_size, 0.5)\n",
        "criterion = nn.BCELoss()\n",
        "optimizer = optim.Adam(oneshotmodel.parameters(), lr=0.0001)\n",
        "optimizerv2 = optim.Adam(oneshotmodelv2.parameters(), lr=0.0001)\n",
        "num_epochs = 100\n",
        "batch_size = 16"
      ],
      "metadata": {
        "id": "2FdKOygv9Chf"
      },
      "execution_count": null,
      "outputs": []
    },
    {
      "cell_type": "markdown",
      "source": [
        "## Test"
      ],
      "metadata": {
        "id": "k-nKCUryz2jZ"
      }
    },
    {
      "cell_type": "code",
      "source": [
        "\"\"\"\n",
        "Except the evaluation mode open + the random choice of class selection\n",
        "and labels etc are from the test data of 6,7,8,9 from test.csv\n",
        "Rest is same as the train mode.\n",
        "\n",
        "What we do here is basically doing the same thing as in training but has no gradient change etc.\n",
        "\n",
        "\"\"\"\n",
        "def test_model(weights,oneshotmodel = oneshotmodel,one_shot_test_label = one_shot_test_label, one_shot_test_data = one_shot_test_data, batch_size = batch_size, test_labels = test_labels, test_data = test_data):\n",
        "  oneshotmodel.eval()\n",
        "  accuracy_list = []\n",
        "  num_iter = 1000 # number of iterations defined in the task, defined as it can be changed.\n",
        "\n",
        "  for _ in range(num_iter):\n",
        "      # Randomly sampling a test class C_i and an example X_i of the C_i\n",
        "      class_val = np.random.choice(len(one_shot_test_label))\n",
        "      values = one_shot_test_data[class_val].unsqueeze(0)\n",
        "      test_labs = one_shot_test_label[class_val].unsqueeze(0)\n",
        "\n",
        "      # Sample query examples (half(8) positive, half(8) negative as it is said in the task) also tried 16/16\n",
        "      positive_ids = np.random.choice(np.where(test_labels == test_labs.item())[0], batch_size // 2) # 8 positive ids by the labels provided at mnist dataset\n",
        "      negative_ids = np.random.choice(np.where(test_labels != test_labs.item())[0], batch_size // 2) # 8 negative ids by the labels provided by the mnist dataset\n",
        "      query_data = torch.tensor(np.vstack([test_data[positive_ids], test_data[negative_ids]]), dtype=torch.float32) # 8+8 sample queries they are concatenated vertically\n",
        "      query_labels = torch.tensor(np.hstack([np.ones(batch_size // 2), np.zeros(batch_size // 2)]), dtype=torch.long) # 8+8 sample query labels are concatenated vertically\n",
        "\n",
        "      # Shuffling query data and labels\n",
        "      randperm = torch.randperm(query_data.size(0))\n",
        "      query_data = query_data[randperm]\n",
        "      query_labels = query_labels[randperm]\n",
        "\n",
        "      # Without gradients make the predictions and measure accuracy\n",
        "      with torch.no_grad():\n",
        "          predictions = sigmoid_similarity_classifier(query_data, weights)\n",
        "          predicted = (predictions >= 0.5).float()\n",
        "          accuracy = (predicted == query_labels).sum().item() / len(query_labels)\n",
        "          accuracy_list.append(accuracy)\n",
        "\n",
        "  average_accuracy = np.mean(accuracy_list)\n",
        "  print(f'Average accuracy on one-shot MNIST test data: {average_accuracy * 100:.4f}%')\n",
        "  return average_accuracy"
      ],
      "metadata": {
        "id": "qPXfTJgZpOBb"
      },
      "execution_count": null,
      "outputs": []
    },
    {
      "cell_type": "markdown",
      "source": [
        "## Train"
      ],
      "metadata": {
        "id": "6A7obvtOz1FK"
      }
    },
    {
      "cell_type": "code",
      "source": [
        "def train_model(oneshotmodel, one_shot_train_data, one_shot_train_label, train_data, train_labels, criterion, optimizer, batch_size):\n",
        "    epoch_loss = 0\n",
        "    oneshotmodel.train()\n",
        "\n",
        "    # Sampling a training class C_i and an example X_i of the C_i\n",
        "    class_val = np.random.choice(len(one_shot_train_label))\n",
        "    values = one_shot_train_data[class_val].unsqueeze(0)\n",
        "    train_labs = one_shot_train_label[class_val].unsqueeze(0)\n",
        "\n",
        "    # Binary classifier parameters which states the true group for our system. Y_i = 1\n",
        "    weights = oneshotmodel(values).squeeze()\n",
        "\n",
        "    # Sample query examples (half positive, half negative as it is said in the task)\n",
        "    positive_ids = np.random.choice(np.where(train_labels == train_labs.item())[0], batch_size // 2)\n",
        "    negative_ids = np.random.choice(np.where(train_labels != train_labs.item())[0], batch_size // 2)\n",
        "    query_data = torch.tensor(np.vstack([train_data[positive_ids], train_data[negative_ids]]), dtype=torch.float32)\n",
        "    query_labels = torch.tensor(np.hstack([np.ones(batch_size // 2), np.zeros(batch_size // 2)]), dtype=torch.float32)\n",
        "\n",
        "    # Shuffling query data and labels\n",
        "    perm = torch.randperm(query_data.size(0))\n",
        "    query_data = query_data[perm]\n",
        "    query_labels = query_labels[perm]\n",
        "\n",
        "    # Prediction and loss calculations.\n",
        "    predictions = sigmoid_similarity_classifier(query_data, weights)\n",
        "    loss = criterion(predictions, query_labels)\n",
        "\n",
        "    # Backprop and minimization via Adam optimizer.\n",
        "    optimizer.zero_grad()\n",
        "    loss.backward()\n",
        "    optimizer.step()\n",
        "\n",
        "    epoch_loss += loss.item()\n",
        "\n",
        "    return epoch_loss, weights"
      ],
      "metadata": {
        "id": "A7Ktche5Eobh"
      },
      "execution_count": null,
      "outputs": []
    },
    {
      "cell_type": "markdown",
      "source": [
        "## Run"
      ],
      "metadata": {
        "id": "6h4XBrmvGxh3"
      }
    },
    {
      "cell_type": "code",
      "source": [
        "\"\"\"\n",
        "try:\n",
        "  oneshotmodel.load_state_dict(torch.load(best_weights_path))\n",
        "  print(f\"Loaded best model weights from {best_weights_path}\")\n",
        "  initial_hidden_size = hidden_size\n",
        "except FileNotFoundError:\n",
        "  print(f\"No previous best model weights found at {best_weights_path}, starting from scratch.\")\n",
        "\n",
        "\"\"\""
      ],
      "metadata": {
        "collapsed": true,
        "id": "vOqlNw8P1qFp"
      },
      "execution_count": null,
      "outputs": []
    },
    {
      "cell_type": "code",
      "source": [
        "\"\"\"\n",
        "Here we first initiate the oneshot model train set up,\n",
        "then we select a class randomly from our one shot train labels that we created\n",
        "e.g 3 then we excerpt the value as 784 which is flattened version of 28*28 matrix of a MNIST image\n",
        "\n",
        "then we get the label also.\n",
        "\n",
        "later we define the weights based on this class to make it Y_i = 1 which will lead others as 0.\n",
        "\n",
        "Then as specified in the question we make the query examples by stacking them vertically with np vstack.\n",
        "\n",
        "Here it is in ordered set version as\n",
        "labels are [1,1,1,1,1,1,1,1,0,0,0,0,0,0,0,0]\n",
        "for that we use 1-2-3D concatenation package np hstack which stacks horizontally as name stands for that\n",
        "\n",
        "we then convert them to torch tensors.\n",
        "\n",
        "also randomly change their locations for not making labels like 1,1,1,1,1,1,0,0,0,0 and so rather 0,1,1,0,0,0,1,1,0 is better.\n",
        "\n",
        "Later based on our model and the binary cross entropy loss we make our classification\n",
        "\n",
        "with our loss function minimization.\n",
        "train_labels is the priorly made train labels set-list train_labs is the labels.\n",
        "*** With the classify we are actually basically doing a sigmoid based classification\n",
        "since we determined a true label at the weights part which actually run the model to get those weights\n",
        "and we accepted them as true, we then get our query data and look at similarities mostly based on that.\n",
        "\n",
        "To get the similarities we make the dot product a.k.a matmul in np, then put it in sigmoid,\n",
        "with that similarity relation we make the training, if it is similar but we say it is not that it results in\n",
        "higher loss and for that we have original labels that we created directly from the labels mnist provides us.\n",
        "\n",
        "then compare the result of the sigmoid either 0 or 1 with the original labels. and get the BCEloss. Also used BCEwithLogitsloss\n",
        "\n",
        "have test_model implemented to train and added best model weights save, looks great now.\n",
        "\n",
        "\"\"\"\n",
        "\n",
        "\n",
        "patience = 10  # how many epochs to wait for improvement\n",
        "best_accuracy = 0.5 # well 0.5 is for binary means nothing so thats why I made this limit.\n",
        "epochs_since_improvement = 0\n",
        "best_model_weights = None\n",
        "best_weights_path = '/content/best_model_weights.pth'\n",
        "\n",
        "\n",
        "\n",
        "for epoch in range(num_epochs):\n",
        "    epoch_loss, weights = train_model(oneshotmodel, one_shot_train_data, one_shot_train_label, train_data, train_labels, criterion, optimizer, batch_size)\n",
        "    if (((epoch + 1) % 10) == 0) or (epoch == 0):\n",
        "        accuracy = test_model(weights=weights,oneshotmodel=oneshotmodel)\n",
        "        print(f'Epoch [{epoch+1}/{num_epochs}], Accuracy: {accuracy*100:.4f}%')\n",
        "\n",
        "        if accuracy > best_accuracy:\n",
        "            best_accuracy = accuracy\n",
        "            epochs_since_improvement = 0\n",
        "            best_model_weights = oneshotmodel.state_dict().copy()\n",
        "        else:\n",
        "            epochs_since_improvement += 1\n",
        "\n",
        "        if epochs_since_improvement >= patience:\n",
        "            print(f'Early stopping at epoch {epoch+1}')\n",
        "            break\n",
        "\n",
        "\n",
        "    print(f'Epoch [{epoch+1}/{num_epochs}], Loss: {epoch_loss:.4f}')\n",
        "\n",
        "# Might be handy to have best weights.\n",
        "if best_model_weights is not None:\n",
        "    torch.save(best_model_weights, 'best_model_weights.pth')\n",
        "    print(\"Best model weights saved.\")\n",
        "else:\n",
        "    print(\"No improvement during training.\")\n"
      ],
      "metadata": {
        "id": "T5gk2Y3JjhY-",
        "colab": {
          "base_uri": "https://localhost:8080/"
        },
        "collapsed": true,
        "outputId": "9fba887b-fbc2-4ea0-d28c-446fc87e6592"
      },
      "execution_count": null,
      "outputs": [
        {
          "output_type": "stream",
          "name": "stdout",
          "text": [
            "Average accuracy on one-shot MNIST test data: 50.0687%\n",
            "Epoch [1/100], Accuracy: 50.0687%\n",
            "Epoch [1/100], Loss: 0.8455\n",
            "Epoch [2/100], Loss: 0.5367\n",
            "Epoch [3/100], Loss: 0.8453\n",
            "Epoch [4/100], Loss: 0.7453\n",
            "Epoch [5/100], Loss: 0.7179\n",
            "Epoch [6/100], Loss: 0.5146\n",
            "Epoch [7/100], Loss: 0.6940\n",
            "Epoch [8/100], Loss: 0.3855\n",
            "Epoch [9/100], Loss: 0.8168\n",
            "Average accuracy on one-shot MNIST test data: 50.0750%\n",
            "Epoch [10/100], Accuracy: 50.0750%\n",
            "Epoch [10/100], Loss: 0.7113\n",
            "Epoch [11/100], Loss: 0.8373\n",
            "Epoch [12/100], Loss: 0.6459\n",
            "Epoch [13/100], Loss: 0.7477\n",
            "Epoch [14/100], Loss: 0.7110\n",
            "Epoch [15/100], Loss: 0.5562\n",
            "Epoch [16/100], Loss: 0.6839\n",
            "Epoch [17/100], Loss: 0.7743\n",
            "Epoch [18/100], Loss: 0.3250\n",
            "Epoch [19/100], Loss: 0.6653\n",
            "Average accuracy on one-shot MNIST test data: 50.4062%\n",
            "Epoch [20/100], Accuracy: 50.4062%\n",
            "Epoch [20/100], Loss: 0.6719\n",
            "Epoch [21/100], Loss: 0.6797\n",
            "Epoch [22/100], Loss: 0.6093\n",
            "Epoch [23/100], Loss: 0.6527\n",
            "Epoch [24/100], Loss: 0.6287\n",
            "Epoch [25/100], Loss: 0.6455\n",
            "Epoch [26/100], Loss: 0.5566\n",
            "Epoch [27/100], Loss: 0.5924\n",
            "Epoch [28/100], Loss: 0.5080\n",
            "Epoch [29/100], Loss: 0.5285\n",
            "Average accuracy on one-shot MNIST test data: 50.2844%\n",
            "Epoch [30/100], Accuracy: 50.2844%\n",
            "Epoch [30/100], Loss: 0.6255\n",
            "Epoch [31/100], Loss: 0.5579\n",
            "Epoch [32/100], Loss: 0.5723\n",
            "Epoch [33/100], Loss: 0.5549\n",
            "Epoch [34/100], Loss: 0.5862\n",
            "Epoch [35/100], Loss: 0.5149\n",
            "Epoch [36/100], Loss: 0.5863\n",
            "Epoch [37/100], Loss: 0.5394\n",
            "Epoch [38/100], Loss: 0.5162\n",
            "Epoch [39/100], Loss: 0.6662\n",
            "Average accuracy on one-shot MNIST test data: 50.0031%\n",
            "Epoch [40/100], Accuracy: 50.0031%\n",
            "Epoch [40/100], Loss: 0.3864\n",
            "Epoch [41/100], Loss: 0.4998\n",
            "Epoch [42/100], Loss: 0.5747\n",
            "Epoch [43/100], Loss: 0.4501\n",
            "Epoch [44/100], Loss: 0.4182\n",
            "Epoch [45/100], Loss: 0.5025\n",
            "Epoch [46/100], Loss: 0.5321\n",
            "Epoch [47/100], Loss: 0.5312\n",
            "Epoch [48/100], Loss: 0.5610\n",
            "Epoch [49/100], Loss: 0.4036\n",
            "Average accuracy on one-shot MNIST test data: 50.0875%\n",
            "Epoch [50/100], Accuracy: 50.0875%\n",
            "Epoch [50/100], Loss: 0.3933\n",
            "Epoch [51/100], Loss: 0.4283\n",
            "Epoch [52/100], Loss: 0.4857\n",
            "Epoch [53/100], Loss: 0.3467\n",
            "Epoch [54/100], Loss: 0.3519\n",
            "Epoch [55/100], Loss: 0.4418\n",
            "Epoch [56/100], Loss: 0.3556\n",
            "Epoch [57/100], Loss: 0.3534\n",
            "Epoch [58/100], Loss: 0.2983\n",
            "Epoch [59/100], Loss: 0.3546\n",
            "Average accuracy on one-shot MNIST test data: 50.7812%\n",
            "Epoch [60/100], Accuracy: 50.7812%\n",
            "Epoch [60/100], Loss: 0.5006\n",
            "Epoch [61/100], Loss: 0.3505\n",
            "Epoch [62/100], Loss: 0.5139\n",
            "Epoch [63/100], Loss: 0.3121\n",
            "Epoch [64/100], Loss: 0.3407\n",
            "Epoch [65/100], Loss: 0.3997\n",
            "Epoch [66/100], Loss: 0.2859\n",
            "Epoch [67/100], Loss: 0.2639\n",
            "Epoch [68/100], Loss: 0.1972\n",
            "Epoch [69/100], Loss: 0.4996\n",
            "Average accuracy on one-shot MNIST test data: 49.2406%\n",
            "Epoch [70/100], Accuracy: 49.2406%\n",
            "Epoch [70/100], Loss: 0.3503\n",
            "Epoch [71/100], Loss: 0.5129\n",
            "Epoch [72/100], Loss: 0.3843\n",
            "Epoch [73/100], Loss: 0.2839\n",
            "Epoch [74/100], Loss: 0.3816\n",
            "Epoch [75/100], Loss: 0.2824\n",
            "Epoch [76/100], Loss: 0.3598\n",
            "Epoch [77/100], Loss: 0.3380\n",
            "Epoch [78/100], Loss: 0.3622\n",
            "Epoch [79/100], Loss: 0.3159\n",
            "Average accuracy on one-shot MNIST test data: 50.2625%\n",
            "Epoch [80/100], Accuracy: 50.2625%\n",
            "Epoch [80/100], Loss: 0.4315\n",
            "Epoch [81/100], Loss: 0.5173\n",
            "Epoch [82/100], Loss: 0.4215\n",
            "Epoch [83/100], Loss: 0.5659\n",
            "Epoch [84/100], Loss: 0.2273\n",
            "Epoch [85/100], Loss: 0.3509\n",
            "Epoch [86/100], Loss: 0.4991\n",
            "Epoch [87/100], Loss: 0.4141\n",
            "Epoch [88/100], Loss: 0.5114\n",
            "Epoch [89/100], Loss: 0.5360\n",
            "Average accuracy on one-shot MNIST test data: 49.6688%\n",
            "Epoch [90/100], Accuracy: 49.6688%\n",
            "Epoch [90/100], Loss: 0.2460\n",
            "Epoch [91/100], Loss: 0.2694\n",
            "Epoch [92/100], Loss: 0.4654\n",
            "Epoch [93/100], Loss: 0.2373\n",
            "Epoch [94/100], Loss: 0.4539\n",
            "Epoch [95/100], Loss: 0.5553\n",
            "Epoch [96/100], Loss: 0.2408\n",
            "Epoch [97/100], Loss: 0.2826\n",
            "Epoch [98/100], Loss: 0.3583\n",
            "Epoch [99/100], Loss: 0.4952\n",
            "Average accuracy on one-shot MNIST test data: 50.1500%\n",
            "Epoch [100/100], Accuracy: 50.1500%\n",
            "Epoch [100/100], Loss: 0.4316\n",
            "Best model weights saved.\n"
          ]
        }
      ]
    },
    {
      "cell_type": "code",
      "source": [
        "for epoch in range(num_epochs):\n",
        "    epoch_loss, weights = train_model(oneshotmodelv2, one_shot_train_data, one_shot_train_label, train_data, train_labels, criterion, optimizerv2, batch_size)\n",
        "    if (((epoch + 1) % 10) == 0) or (epoch == 0):\n",
        "        accuracy = test_model(weights=weights,oneshotmodel=oneshotmodelv2)\n",
        "        print(f'Epoch [{epoch+1}/{num_epochs}], Accuracy: {accuracy*100:.4f}%')\n",
        "\n",
        "        if accuracy > best_accuracy:\n",
        "            best_accuracy = accuracy\n",
        "            epochs_since_improvement = 0\n",
        "            best_model_weights = oneshotmodel.state_dict().copy()\n",
        "        else:\n",
        "            epochs_since_improvement += 1\n",
        "\n",
        "        if epochs_since_improvement >= patience:\n",
        "            print(f'Early stopping at epoch {epoch+1}')\n",
        "            break\n",
        "\n",
        "\n",
        "    print(f'Epoch [{epoch+1}/{num_epochs}], Loss: {epoch_loss:.4f}')\n",
        "\n",
        "# Might be handy to have best weights.\n",
        "if best_model_weights is not None:\n",
        "    torch.save(best_model_weights, 'best_model_weights.pth')\n",
        "    print(\"Best model weights saved.\")\n",
        "else:\n",
        "    print(\"No improvement during training.\")"
      ],
      "metadata": {
        "colab": {
          "base_uri": "https://localhost:8080/"
        },
        "id": "j1BCqqtrOvkx",
        "outputId": "a9cdfa19-609a-4d42-c311-40be040a7e74"
      },
      "execution_count": null,
      "outputs": [
        {
          "output_type": "stream",
          "name": "stdout",
          "text": [
            "Average accuracy on one-shot MNIST test data: 50.0469%\n",
            "Epoch [1/100], Accuracy: 50.0469%\n",
            "Epoch [1/100], Loss: 0.5787\n",
            "Epoch [2/100], Loss: 0.4662\n",
            "Epoch [3/100], Loss: 0.4697\n",
            "Epoch [4/100], Loss: 0.5250\n",
            "Epoch [5/100], Loss: 0.5528\n",
            "Epoch [6/100], Loss: 0.6959\n",
            "Epoch [7/100], Loss: 0.4413\n",
            "Epoch [8/100], Loss: 0.6419\n",
            "Epoch [9/100], Loss: 0.5619\n",
            "Average accuracy on one-shot MNIST test data: 49.6156%\n",
            "Epoch [10/100], Accuracy: 49.6156%\n",
            "Epoch [10/100], Loss: 0.5454\n",
            "Epoch [11/100], Loss: 0.5755\n",
            "Epoch [12/100], Loss: 0.5697\n",
            "Epoch [13/100], Loss: 0.5803\n",
            "Epoch [14/100], Loss: 0.6622\n",
            "Epoch [15/100], Loss: 0.5860\n",
            "Epoch [16/100], Loss: 0.5465\n",
            "Epoch [17/100], Loss: 0.5055\n",
            "Epoch [18/100], Loss: 0.6330\n",
            "Epoch [19/100], Loss: 0.3749\n",
            "Average accuracy on one-shot MNIST test data: 49.5344%\n",
            "Epoch [20/100], Accuracy: 49.5344%\n",
            "Epoch [20/100], Loss: 0.5870\n",
            "Epoch [21/100], Loss: 0.3615\n",
            "Epoch [22/100], Loss: 0.5945\n",
            "Epoch [23/100], Loss: 0.4557\n",
            "Epoch [24/100], Loss: 0.3755\n",
            "Epoch [25/100], Loss: 0.6072\n",
            "Epoch [26/100], Loss: 0.6556\n",
            "Epoch [27/100], Loss: 0.5160\n",
            "Epoch [28/100], Loss: 0.4562\n",
            "Epoch [29/100], Loss: 0.4554\n",
            "Average accuracy on one-shot MNIST test data: 50.0938%\n",
            "Epoch [30/100], Accuracy: 50.0938%\n",
            "Epoch [30/100], Loss: 0.6007\n",
            "Epoch [31/100], Loss: 0.6508\n",
            "Epoch [32/100], Loss: 0.4901\n",
            "Epoch [33/100], Loss: 0.3791\n",
            "Epoch [34/100], Loss: 0.5568\n",
            "Epoch [35/100], Loss: 0.6271\n",
            "Epoch [36/100], Loss: 0.6380\n",
            "Epoch [37/100], Loss: 0.4741\n",
            "Epoch [38/100], Loss: 0.2826\n",
            "Epoch [39/100], Loss: 0.5962\n",
            "Average accuracy on one-shot MNIST test data: 50.1562%\n",
            "Epoch [40/100], Accuracy: 50.1562%\n",
            "Epoch [40/100], Loss: 0.5386\n",
            "Epoch [41/100], Loss: 0.7373\n",
            "Epoch [42/100], Loss: 0.4167\n",
            "Epoch [43/100], Loss: 0.6060\n",
            "Epoch [44/100], Loss: 0.3111\n",
            "Epoch [45/100], Loss: 0.5474\n",
            "Epoch [46/100], Loss: 0.5190\n",
            "Epoch [47/100], Loss: 0.6571\n",
            "Epoch [48/100], Loss: 0.4372\n",
            "Epoch [49/100], Loss: 0.5594\n",
            "Average accuracy on one-shot MNIST test data: 50.0875%\n",
            "Epoch [50/100], Accuracy: 50.0875%\n",
            "Early stopping at epoch 50\n",
            "Best model weights saved.\n"
          ]
        }
      ]
    },
    {
      "cell_type": "markdown",
      "source": [
        "# Initial Observation Result"
      ],
      "metadata": {
        "id": "_1HdQ6n0HM87"
      }
    },
    {
      "cell_type": "markdown",
      "source": [
        "* Only changing the learning rate slightly to lower from 0.001 made a change but a slight change, tried 0.01,0.001,0.0001,0.00001 ... smaller ones didn't contribue since it made the gradient* learning rate eta so small. As W_new = W_old - eta*gradL so the search was relatively slow at that point.\n",
        "\n",
        "* Epoch number helps to saturate at 0.5 which is not nice since it means we are not making the system learn a generalized pattern that can understand each number, rather it becomes 50/50 coin toss at this point so cannot classify whether it is the label that we asked for or not (since we made one of the labels as Y_i =1 I call this the label we asked, can say the searched label or so.)\n",
        "\n",
        "* Number of hidden state or neurons also doesn't change a thing even at higher neurons it wont overfit or make worse accuracy, since we used the same seed for all experiments, can say that epoch doesn't change making more complex model does not change (tried), more hidden states don't change. Also changing batch size which will change query size also didn't change.\n",
        "\n"
      ],
      "metadata": {
        "id": "ToBMc5RIHOBA"
      }
    },
    {
      "cell_type": "markdown",
      "source": [
        "# Final Results"
      ],
      "metadata": {
        "id": "vwJQfNqGzkXK"
      }
    },
    {
      "cell_type": "markdown",
      "source": [
        "* After changing the structure where I had 2 loops in the train rather than 1, which is more appropriate to what task asked for, but still the accuracy fluctuates around 50 percent\n",
        "\n",
        "* It is seen in the papers that most one-shot vision tasks use cnn based similarity measuring networks such as triplet network or siamese network where they use constrastive loss for two identical models at siamese, here we didn't do such thing, but it was great to see learn about them.\n",
        "\n",
        "* Decreasing learning rate or increasing it does not make a significant change at accuracy. Only changes the loss, but does not contribute to the better predictions.\n",
        "\n",
        "* Similar patterns at changing hidden_size and the batch_size, they seem to not change the randomness of the accuracy scores and giving similar from 49 to 51 percent accuracy scores at whole run. Yet changes the learning.\n",
        "\n",
        "* At the end we couldn't determine an unbiased estimator with 2 layer mlp to MNIST problem.\n",
        "\n",
        "* As a result since loss changes --> decreases we can say that model learns at the epochs but model does not learn valuable information to have better accuracy. Hence in statistics we can say we couldn't find an unbiased estimator with 2 layer MLP network.\n",
        "\n",
        "* Another deeper model with dropout experimented, accuracy still did not improve, learning is perhaps faster but not giving any useful information for the task.\n",
        "\n"
      ],
      "metadata": {
        "id": "b3RQfj7cznU7"
      }
    },
    {
      "cell_type": "markdown",
      "source": [
        "# Visualization of the samples"
      ],
      "metadata": {
        "id": "PnQlVFJ6hNak"
      }
    },
    {
      "cell_type": "markdown",
      "source": [
        "* Check the Prepared dataset for images that are created."
      ],
      "metadata": {
        "id": "wY5U3NMzheDJ"
      }
    },
    {
      "cell_type": "markdown",
      "source": [
        "## 0"
      ],
      "metadata": {
        "id": "cxaz3y9ri_WH"
      }
    },
    {
      "cell_type": "code",
      "source": [
        "image_index = 0\n",
        "image = one_shot_train_data[image_index]\n",
        "\n",
        "# Reshape the image to 28x28 pixels due 784 is 28**2\n",
        "image = image.reshape(28, 28)\n",
        "\n",
        "# Imagery\n",
        "plt.imshow(image, cmap='gray')\n",
        "plt.title(f\"Label: {one_shot_train_label[image_index]}\")\n",
        "plt.show()"
      ],
      "metadata": {
        "colab": {
          "base_uri": "https://localhost:8080/",
          "height": 452
        },
        "id": "OC6iXDkUg4OC",
        "outputId": "37d1e757-32c2-49e4-ea3c-5b7374999767"
      },
      "execution_count": null,
      "outputs": [
        {
          "output_type": "display_data",
          "data": {
            "text/plain": [
              "<Figure size 640x480 with 1 Axes>"
            ],
            "image/png": "[encoded data removed]"
          },
          "metadata": {}
        }
      ]
    },
    {
      "cell_type": "markdown",
      "source": [
        "## 1"
      ],
      "metadata": {
        "id": "jml7Vs4tjAtv"
      }
    },
    {
      "cell_type": "markdown",
      "source": [
        "Most disgusting 1, I have ever saw but this does not concern the CNN, and I plan on using CNN then there is nothing much to worry about."
      ],
      "metadata": {
        "id": "-XQQSmrejUz5"
      }
    },
    {
      "cell_type": "code",
      "source": [
        "image_index = 1\n",
        "image = one_shot_train_data[image_index]\n",
        "\n",
        "# Reshape the image to 28x28 pixels due 784 is 28**2\n",
        "image = image.reshape(28, 28)\n",
        "\n",
        "# Imagery\n",
        "plt.imshow(image, cmap='gray')\n",
        "plt.title(f\"Label: {one_shot_train_label[image_index]}\")\n",
        "plt.show()"
      ],
      "metadata": {
        "colab": {
          "base_uri": "https://localhost:8080/",
          "height": 452
        },
        "id": "yIu2Zp7DjFkW",
        "outputId": "e85b7d48-6f3c-4515-aea4-b488f6dc7bfa"
      },
      "execution_count": null,
      "outputs": [
        {
          "output_type": "display_data",
          "data": {
            "text/plain": [
              "<Figure size 640x480 with 1 Axes>"
            ],
            "image/png": "[encoded data removed]"
          },
          "metadata": {}
        }
      ]
    },
    {
      "cell_type": "markdown",
      "source": [
        "## 2"
      ],
      "metadata": {
        "id": "AkJPlTzVjBlf"
      }
    },
    {
      "cell_type": "code",
      "source": [
        "image_index = 2\n",
        "image = one_shot_train_data[image_index]\n",
        "\n",
        "# Reshape the image to 28x28 pixels due 784 is 28**2\n",
        "image = image.reshape(28, 28)\n",
        "\n",
        "# Imagery\n",
        "plt.imshow(image, cmap='gray')\n",
        "plt.title(f\"Label: {one_shot_train_label[image_index]}\")\n",
        "plt.show()"
      ],
      "metadata": {
        "colab": {
          "base_uri": "https://localhost:8080/",
          "height": 452
        },
        "id": "pB28gyL4jGt2",
        "outputId": "9e3b918e-03e9-44ee-cfd3-4f0c726d6304"
      },
      "execution_count": null,
      "outputs": [
        {
          "output_type": "display_data",
          "data": {
            "text/plain": [
              "<Figure size 640x480 with 1 Axes>"
            ],
            "image/png": "[encoded data removed]"
          },
          "metadata": {}
        }
      ]
    },
    {
      "cell_type": "markdown",
      "source": [
        "## 3"
      ],
      "metadata": {
        "id": "9sluOEqfjCL-"
      }
    },
    {
      "cell_type": "code",
      "source": [
        "image_index = 3\n",
        "image = one_shot_train_data[image_index]\n",
        "\n",
        "# Reshape the image to 28x28 pixels due 784 is 28**2\n",
        "image = image.reshape(28, 28)\n",
        "\n",
        "# Imagery\n",
        "plt.imshow(image, cmap='gray')\n",
        "plt.title(f\"Label: {one_shot_train_label[image_index]}\")\n",
        "plt.show()"
      ],
      "metadata": {
        "colab": {
          "base_uri": "https://localhost:8080/",
          "height": 452
        },
        "id": "7yhxmBBljIOP",
        "outputId": "62b2ef30-0302-4cec-be40-73e74aaa5a3b"
      },
      "execution_count": null,
      "outputs": [
        {
          "output_type": "display_data",
          "data": {
            "text/plain": [
              "<Figure size 640x480 with 1 Axes>"
            ],
            "image/png": "[encoded data removed]"
          },
          "metadata": {}
        }
      ]
    },
    {
      "cell_type": "markdown",
      "source": [
        "## 4"
      ],
      "metadata": {
        "id": "XWTeLhnZjC3N"
      }
    },
    {
      "cell_type": "markdown",
      "source": [
        "I wouldnt consider this a 4 but okay. (Doesnt look like any other digit either.)"
      ],
      "metadata": {
        "id": "43FYLwbljNeg"
      }
    },
    {
      "cell_type": "code",
      "source": [
        "image_index = 4\n",
        "image = one_shot_train_data[image_index]\n",
        "\n",
        "# Reshape the image to 28x28 pixels due 784 is 28**2\n",
        "image = image.reshape(28, 28)\n",
        "\n",
        "# Imagery\n",
        "plt.imshow(image, cmap='gray')\n",
        "plt.title(f\"Label: {one_shot_train_label[image_index]}\")\n",
        "plt.show()"
      ],
      "metadata": {
        "colab": {
          "base_uri": "https://localhost:8080/",
          "height": 452
        },
        "id": "B3l_7tN6jJ83",
        "outputId": "04a9514c-b09c-4078-b4c6-fa56e094190a"
      },
      "execution_count": null,
      "outputs": [
        {
          "output_type": "display_data",
          "data": {
            "text/plain": [
              "<Figure size 640x480 with 1 Axes>"
            ],
            "image/png": "[encoded data removed]"
          },
          "metadata": {}
        }
      ]
    },
    {
      "cell_type": "markdown",
      "source": [
        "## 5"
      ],
      "metadata": {
        "id": "vkb70aWljDzO"
      }
    },
    {
      "cell_type": "code",
      "source": [
        "image_index = 5\n",
        "image = one_shot_train_data[image_index]\n",
        "\n",
        "# Reshape the image to 28x28 pixels due 784 is 28**2\n",
        "image = image.reshape(28, 28)\n",
        "\n",
        "# Imagery\n",
        "plt.imshow(image, cmap='gray')\n",
        "plt.title(f\"Label: {one_shot_train_label[image_index]}\")\n",
        "plt.show()"
      ],
      "metadata": {
        "colab": {
          "base_uri": "https://localhost:8080/",
          "height": 452
        },
        "id": "GLKSkAMOjK5n",
        "outputId": "6c66d324-69ba-4cd3-edb1-e7493e592ff0"
      },
      "execution_count": null,
      "outputs": [
        {
          "output_type": "display_data",
          "data": {
            "text/plain": [
              "<Figure size 640x480 with 1 Axes>"
            ],
            "image/png": "[encoded data removed]"
          },
          "metadata": {}
        }
      ]
    },
    {
      "cell_type": "markdown",
      "source": [
        "# References"
      ],
      "metadata": {
        "id": "VqVGaqpBtQtd"
      }
    },
    {
      "cell_type": "markdown",
      "source": [
        "* https://paperswithcode.com/paper/siamese-neural-networks-for-one-shot-image\n",
        "\n",
        "* https://paperswithcode.com/sota/one-shot-learning-on-mnist\n",
        "\n",
        "* https://www.kaggle.com/datasets/chats351/oneshot-learning\n",
        "\n",
        "* https://github.com/rarriaza/MNIST_One_Shot_Learning/tree/main\n",
        "\n",
        "* https://github.com/fangpin/siamese-pytorch\n",
        "\n",
        "For inspiration\n",
        "\n",
        "* https://medium.com/hackernoon/one-shot-learning-with-siamese-networks-in-pytorch-8ddaab10340e\n",
        "\n",
        "* https://hackernoon.com/facial-similarity-with-siamese-networks-in-pytorch-9642aa9db2f7"
      ],
      "metadata": {
        "id": "lGvplHpItSfv"
      }
    }
  ]
}